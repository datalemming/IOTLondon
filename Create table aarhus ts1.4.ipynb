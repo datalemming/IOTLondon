{
 "cells": [
  {
   "cell_type": "markdown",
   "metadata": {},
   "source": [
    "![Basho banner](./basho_vert.png)\n",
    "## Riak TS 1.4 Demonstration\n",
    "\n",
    "#### Describe environment\n",
    "* VirtualBox environment\n",
    "* Linux Mint 17.2\n",
    "* 8GB RAM\n",
    "* 1core\n",
    "* 50GB HDD\n",
    "\n",
    "#### Describe data\n",
    "\n",
    "### Table creation\n"
   ]
  },
  {
   "cell_type": "code",
   "execution_count": 1,
   "metadata": {
    "collapsed": false
   },
   "outputs": [
    {
     "name": "stderr",
     "output_type": "stream",
     "text": [
      "/home/stephen/aarhus/local/lib/python2.7/site-packages/riak/security.py:45: UserWarning: OpenSSL 1.0.1f 6 Jan 2014 (>= 1.0.1g required), TLS 1.2 support: False\n",
      "  warnings.warn(msg, UserWarning)\n"
     ]
    }
   ],
   "source": [
    "from riak import RiakClient"
   ]
  },
  {
   "cell_type": "code",
   "execution_count": 2,
   "metadata": {
    "collapsed": false
   },
   "outputs": [
    {
     "data": {
      "text/plain": [
       "True"
      ]
     },
     "execution_count": 2,
     "metadata": {},
     "output_type": "execute_result"
    }
   ],
   "source": [
    "c=RiakClient()\n",
    "c.ping()"
   ]
  },
  {
   "cell_type": "code",
   "execution_count": null,
   "metadata": {
    "collapsed": false
   },
   "outputs": [],
   "source": [
    "#create table\n",
    "#DO NOT RUN THIS CELL IF THE TABLE ALREADY EXISTS - IT WILL GENERATE AN ERROR\n",
    "#NOTE REVISED FORMAT OF KEYS\n",
    "\n",
    "fmt=\"\"\"\n",
    "    CREATE TABLE aarhus (\n",
    "        extid varchar not null,\n",
    "        ts timestamp not null,\n",
    "        avgMeasuredTime sint64 not null,\n",
    "        avgSpeed sint64 not null,\n",
    "        medianMeasuredTime sint64 not null,\n",
    "        vehicleCount sint64 not null,\n",
    "        id sint64 not null,\n",
    "        PRIMARY KEY(\n",
    "            (extid,quantum(ts,30,'d')),\n",
    "            extid,ts)\n",
    "            )\n",
    "            with (n_val=1)\n",
    "\"\"\"\n",
    "c.ts_query('aarhus',fmt)"
   ]
  },
  {
   "cell_type": "code",
   "execution_count": 3,
   "metadata": {
    "collapsed": false
   },
   "outputs": [
    {
     "name": "stdout",
     "output_type": "stream",
     "text": [
      "['extid', 'varchar', False, 1, 1, None, None]\n",
      "['ts', 'timestamp', False, 2, 2, 30, 'd']\n",
      "['avgMeasuredTime', 'sint64', False, None, None, None, None]\n",
      "['avgSpeed', 'sint64', False, None, None, None, None]\n",
      "['medianMeasuredTime', 'sint64', False, None, None, None, None]\n",
      "['vehicleCount', 'sint64', False, None, None, None, None]\n",
      "['id', 'sint64', False, None, None, None, None]\n"
     ]
    }
   ],
   "source": [
    "t=c.table('aarhus')\n",
    "to=t.describe()\n",
    "for r in to.rows:\n",
    "    print r"
   ]
  },
  {
   "cell_type": "code",
   "execution_count": null,
   "metadata": {
    "collapsed": false,
    "scrolled": true
   },
   "outputs": [],
   "source": [
    "q=\"DESCRIBE aarhus;\"\n",
    "r=c.ts_query('aarhus',q)\n",
    "#print r.rows\n",
    "for l in r.rows:\n",
    "    print l"
   ]
  },
  {
   "cell_type": "code",
   "execution_count": null,
   "metadata": {
    "collapsed": true
   },
   "outputs": [],
   "source": []
  }
 ],
 "metadata": {
  "kernelspec": {
   "display_name": "Python 2",
   "language": "python",
   "name": "python2"
  },
  "language_info": {
   "codemirror_mode": {
    "name": "ipython",
    "version": 2
   },
   "file_extension": ".py",
   "mimetype": "text/x-python",
   "name": "python",
   "nbconvert_exporter": "python",
   "pygments_lexer": "ipython2",
   "version": "2.7.6"
  }
 },
 "nbformat": 4,
 "nbformat_minor": 0
}
